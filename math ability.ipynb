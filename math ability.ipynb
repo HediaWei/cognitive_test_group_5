{
 "cells": [
  {
   "cell_type": "code",
   "execution_count": null,
   "id": "53d2f516-604f-47e8-9e34-7cf1f891458b",
   "metadata": {},
   "outputs": [
    {
     "data": {
      "text/html": [
       "<span style='color: black; font-size: 20px;'>Math Calculation Ability Test: Here is the example for your further step calculation,if you see'2+3*2' it would be(2+3)*2</span>"
      ],
      "text/plain": [
       "<IPython.core.display.HTML object>"
      ]
     },
     "metadata": {},
     "output_type": "display_data"
    },
    {
     "data": {
      "text/html": [
       "<span style='color: black; font-size: 20px;'>Get ready for problem 1...</span>"
      ],
      "text/plain": [
       "<IPython.core.display.HTML object>"
      ]
     },
     "metadata": {},
     "output_type": "display_data"
    }
   ],
   "source": [
    "from IPython.display import display, HTML, clear_output\n",
    "import random\n",
    "import time\n",
    "\n",
    "\n",
    "def generate_problem(question_count):\n",
    "    if question_count <= 12:\n",
    "        num1 = random.randint(0, 10)\n",
    "        num2 = random.randint(0, 10)\n",
    "        num3 = random.randint(0, 10)\n",
    "    elif 13 <= question_count <= 25:\n",
    "        num1 = random.randint(11, 50)\n",
    "        num2 = random.randint(11, 50)\n",
    "        num3 = random.randint(0, 10)\n",
    "    else:\n",
    "        # Handle the case when question_count is outside the specified ranges\n",
    "        raise ValueError(\"Invalid question_count\")\n",
    "    operator1 = random.choice(['+', '-'])\n",
    "    operator2 = random.choice(['+', '-','*'])\n",
    "    return num1, num2, num3, operator1, operator2\n",
    "\n",
    "\n",
    "def display_problem(num1, operator1, num2, operator2, num3):\n",
    "    # Display the problem using HTML-like formatting\n",
    "    display(HTML(f\"<span style='color: red; font-size: 30px;'>{num1}</span>\"))\n",
    "    time.sleep(2)\n",
    "    clear_output(wait=True)\n",
    "\n",
    "    display(HTML(f\"<span style='color: red; font-size: 30px;'>{operator1}{num2}</span>\"))\n",
    "    time.sleep(2)\n",
    "    clear_output(wait=True)\n",
    "    \n",
    "    display(HTML(f\"<span style='color: red; font-size: 30px;'>{operator2}{num3}</span>\"))\n",
    "    time.sleep(2)\n",
    "    clear_output(wait=True)\n",
    "    \n",
    "def main():\n",
    "    correct_answers = 0\n",
    "    score = 0\n",
    "    total_time = 0\n",
    "    num_problems = 25  # You can change the number of problems\n",
    "\n",
    "    display(HTML(f\"<span style='color: black; font-size: 20px;'>Math Calculation Ability Test: Here is the example for your further step calculation,if you see'2+3*2' it would be(2+3)*2</span>\"))\n",
    "    \n",
    "    # Set the timer for 3 minutes\n",
    "    start_time_total = time.time()\n",
    "    end_time_total = start_time_total +(3*60) # 3 minutes in seconds\n",
    "    \n",
    "    \n",
    "    for i in range(1, num_problems + 1):\n",
    "        num1, num2, num3, operator1, operator2 = generate_problem(i)\n",
    "\n",
    "        display(HTML(f\"<span style='color: black; font-size: 20px;'>Get ready for problem {i}...</span>\"))\n",
    "        time.sleep(2)\n",
    "        clear_output(wait=True)\n",
    "\n",
    "        # Display the problem for 2 seconds\n",
    "        display_problem(num1, operator1, num2, operator2, num3 )\n",
    "\n",
    "        # Record start time\n",
    "        start_time = time.time()\n",
    "\n",
    "        # Ask the user to solve the problem\n",
    "        display(HTML(f\"<span style='color: black; font-size: 20px;'>What's the answer? </span>\"))\n",
    "        user_input = input()\n",
    "        user_answer = int(user_input)\n",
    "            \n",
    "        # Record end time\n",
    "        end_time = time.time()\n",
    "\n",
    "        # Calculate the time spent on the current question\n",
    "        time_spent = end_time - start_time\n",
    "        total_time += time_spent\n",
    "\n",
    "        # Calculate the correct answer\n",
    "        if operator1 == '+' and operator2 == '+':\n",
    "            correct_answer = num1 + num2 + num3\n",
    "        elif operator1 == '+' and operator2 == '-':\n",
    "            correct_answer = num1 + num2 - num3\n",
    "        elif operator1 == '+' and operator2 == '*':\n",
    "            correct_answer = (num1 + num2 )* num3\n",
    "        elif operator1 == '-' and operator2 == '+':\n",
    "            correct_answer = num1 - num2 + num3\n",
    "        elif operator1 == '-' and operator2 == '-':\n",
    "            correct_answer = num1 - num2 - num3\n",
    "        elif operator1 == '-' and operator2 == '*':\n",
    "            correct_answer = (num1 - num2) * num3\n",
    "\n",
    "        # Check if the user's answer is correct\n",
    "        if user_answer == correct_answer:\n",
    "            print(f\"Correct! You earned 1 point. Time: {time_spent:.2f} seconds\\n\")\n",
    "            correct_answers += 1\n",
    "            score += 1\n",
    "        else:\n",
    "            print(f\"Incorrect. The correct answer is {correct_answer}. No point earned. Time: {time_spent:.2f} seconds\\n\")\n",
    "\n",
    "        # Check if the total time exceeds 3 minutes\n",
    "        if time.time() > end_time_total:\n",
    "            display(HTML(f\"<p style= 'color: red; font-size: 25px;'Times Up! The Test is Completed!</p>\"))\n",
    "            \n",
    "    # Calculate the average time spent\n",
    "    average_time = total_time / num_problems\n",
    "\n",
    "    # Display the results using HTML\n",
    "    display(HTML(f\"<p style='color: blue; font-size: 20px;'>You got {correct_answers} out of {num_problems} problems correct.</p>\"))\n",
    "    display(HTML(f\"<p style='color: blue; font-size: 20px;'>Your total score is {score}.</p>\"))\n",
    "    display(HTML(f\"<p style='color: blue; font-size: 20px;'>Average time spent per question: {average_time:.2f} seconds.</p>\"))\n",
    "    display(HTML(f\"<p style='color: blue; font-size: 20px;'>Total time spent on calculation: {total_time:.2f} seconds.</p>\"))\n",
    "\n",
    "if __name__ == \"__main__\":\n",
    "    main()"
   ]
  },
  {
   "cell_type": "markdown",
   "id": "ef01f0fc-e78f-496e-99d5-86774a84b797",
   "metadata": {},
   "source": []
  },
  {
   "cell_type": "code",
   "execution_count": null,
   "id": "c36d4384-376f-42b7-850c-f865ce2595ff",
   "metadata": {},
   "outputs": [],
   "source": []
  }
 ],
 "metadata": {
  "kernelspec": {
   "display_name": "Python 3 (ipykernel)",
   "language": "python",
   "name": "python3"
  },
  "language_info": {
   "codemirror_mode": {
    "name": "ipython",
    "version": 3
   },
   "file_extension": ".py",
   "mimetype": "text/x-python",
   "name": "python",
   "nbconvert_exporter": "python",
   "pygments_lexer": "ipython3",
   "version": "3.9.13"
  }
 },
 "nbformat": 4,
 "nbformat_minor": 5
}
