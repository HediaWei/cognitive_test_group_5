{
 "cells": [
  {
   "cell_type": "markdown",
   "id": "6b140947-2b94-4317-8154-79f0c648a52a",
   "metadata": {},
   "source": [
    "# Spatial reasoning test\n",
    "\n",
    "This test will require you to view an arrangement of 3D coloured cubes on a 5x5x5 axis. You will then be shown four 2D plans of this cube arrangement and asked to identify which is NOT a possible plan of the 3D arrangement shown previously. You will not be limited to a certain time to complete each question, however the time you take to answer will be recorded. Please do not just choose to press all the buttons until you get the right answer, as the number of times you input an incorrect answer will also be recorded.\n",
    "\n",
    "**Please ensure you have downloaded all the required content to run this test, including the Spatial_reasoning excel file, as this will allow you to compare your results to the data used in our research. Please also make sure you have all the packages that are listed in the requirements.txt file.**\n",
    "\n",
    "#### When you are ready to start the test, run the code block below.\n",
    "\n",
    "***"
   ]
  },
  {
   "cell_type": "code",
   "execution_count": 2,
   "id": "3e9899d3-6986-41c7-8cfa-671a73627104",
   "metadata": {
    "tags": []
   },
   "outputs": [
    {
     "data": {
      "text/html": [
       "<span style='font-size: 30px;'> Thank you for taking the spatial reasoning test.</span>"
      ],
      "text/plain": [
       "<IPython.core.display.HTML object>"
      ]
     },
     "metadata": {},
     "output_type": "display_data"
    },
    {
     "data": {
      "text/html": [
       "<span style='font-size: 20px'> You got <b>0</b> question/s wrong overall. </span>"
      ],
      "text/plain": [
       "<IPython.core.display.HTML object>"
      ]
     },
     "metadata": {},
     "output_type": "display_data"
    },
    {
     "data": {
      "text/html": [
       "<span style='font-size: 20px'> Your average time was <b>1.85</b> seconds.</span>"
      ],
      "text/plain": [
       "<IPython.core.display.HTML object>"
      ]
     },
     "metadata": {},
     "output_type": "display_data"
    },
    {
     "data": {
      "text/html": [
       "<span style='font-size: 20px'> Your total time was <b>48.13</b> seconds.</span>"
      ],
      "text/plain": [
       "<IPython.core.display.HTML object>"
      ]
     },
     "metadata": {},
     "output_type": "display_data"
    },
    {
     "data": {
      "image/png": "[encoded data removed]",
      "text/plain": [
       "<Figure size 640x480 with 1 Axes>"
      ]
     },
     "metadata": {},
     "output_type": "display_data"
    },
    {
     "data": {
      "text/html": [
       "<span style='font-size: 20px;'> You're in the top <b>100.00% </b>of users that have taken the spatial reasoning test.</span>"
      ],
      "text/plain": [
       "<IPython.core.display.HTML object>"
      ]
     },
     "metadata": {},
     "output_type": "display_data"
    },
    {
     "data": {
      "text/html": [
       "<span style='font-size: 15px;'> Congratulations! You're in the top 10% of users. Well done!</span>"
      ],
      "text/plain": [
       "<IPython.core.display.HTML object>"
      ]
     },
     "metadata": {},
     "output_type": "display_data"
    },
    {
     "ename": "NameError",
     "evalue": "name 'json' is not defined",
     "output_type": "error",
     "traceback": [
      "\u001b[1;31m---------------------------------------------------------------------------\u001b[0m",
      "\u001b[1;31mNameError\u001b[0m                                 Traceback (most recent call last)",
      "Cell \u001b[1;32mIn[2], line 2\u001b[0m\n\u001b[0;32m      1\u001b[0m \u001b[38;5;28;01mfrom\u001b[39;00m \u001b[38;5;21;01mSRT\u001b[39;00m \u001b[38;5;28;01mimport\u001b[39;00m \u001b[38;5;241m*\u001b[39m\n\u001b[1;32m----> 2\u001b[0m run_spatial_reasoning_test(game_qs, seed_list)\n",
      "File \u001b[1;32m~\\SRT.py:1065\u001b[0m, in \u001b[0;36mrun_spatial_reasoning_test\u001b[1;34m(game_qs, seed_list)\u001b[0m\n\u001b[0;32m   1040\u001b[0m data_dict \u001b[38;5;241m=\u001b[39m {\n\u001b[0;32m   1041\u001b[0m     \u001b[38;5;124m'\u001b[39m\u001b[38;5;124mName\u001b[39m\u001b[38;5;124m'\u001b[39m: name,\n\u001b[0;32m   1042\u001b[0m     \u001b[38;5;124m'\u001b[39m\u001b[38;5;124mAge\u001b[39m\u001b[38;5;124m'\u001b[39m: age,\n\u001b[1;32m   (...)\u001b[0m\n\u001b[0;32m   1062\u001b[0m     \u001b[38;5;124m'\u001b[39m\u001b[38;5;124mincorrect\u001b[39m\u001b[38;5;124m'\u001b[39m: incorrect_input,\n\u001b[0;32m   1063\u001b[0m     }\n\u001b[0;32m   1064\u001b[0m \u001b[38;5;66;03m#send results to google form\u001b[39;00m\n\u001b[1;32m-> 1065\u001b[0m send_to_google_form(data_dict, \u001b[38;5;124m'\u001b[39m\u001b[38;5;124mhttps://docs.google.com/forms/d/e/1FAIpQLSdjZjry_f_EQB4HBGlEPUvwxdE9uGMW_X5QKSLi469bT8oMOw/viewform?usp=sf_link\u001b[39m\u001b[38;5;124m'\u001b[39m)\n",
      "File \u001b[1;32m~\\SRT.py:49\u001b[0m, in \u001b[0;36msend_to_google_form\u001b[1;34m(data_dict, form_url)\u001b[0m\n\u001b[0;32m     47\u001b[0m content \u001b[38;5;241m=\u001b[39m BeautifulSoup(page\u001b[38;5;241m.\u001b[39mcontent, \u001b[38;5;124m\"\u001b[39m\u001b[38;5;124mhtml.parser\u001b[39m\u001b[38;5;124m\"\u001b[39m)\u001b[38;5;241m.\u001b[39mfind(\u001b[38;5;124m'\u001b[39m\u001b[38;5;124mscript\u001b[39m\u001b[38;5;124m'\u001b[39m, \u001b[38;5;28mtype\u001b[39m\u001b[38;5;241m=\u001b[39m\u001b[38;5;124m'\u001b[39m\u001b[38;5;124mtext/javascript\u001b[39m\u001b[38;5;124m'\u001b[39m)\n\u001b[0;32m     48\u001b[0m content \u001b[38;5;241m=\u001b[39m content\u001b[38;5;241m.\u001b[39mtext[\u001b[38;5;241m27\u001b[39m:\u001b[38;5;241m-\u001b[39m\u001b[38;5;241m1\u001b[39m]\n\u001b[1;32m---> 49\u001b[0m result \u001b[38;5;241m=\u001b[39m json\u001b[38;5;241m.\u001b[39mloads(content)[\u001b[38;5;241m1\u001b[39m][\u001b[38;5;241m1\u001b[39m]\n\u001b[0;32m     50\u001b[0m form_dict \u001b[38;5;241m=\u001b[39m {}\n\u001b[0;32m     52\u001b[0m loaded_all \u001b[38;5;241m=\u001b[39m \u001b[38;5;28;01mTrue\u001b[39;00m\n",
      "\u001b[1;31mNameError\u001b[0m: name 'json' is not defined"
     ]
    }
   ],
   "source": [
    "from SRT import *\n",
    "run_spatial_reasoning_test(game_qs, seed_list)"
   ]
  },
  {
   "cell_type": "markdown",
   "id": "0f32b7f3-a278-4477-9fe8-a3b84e00618f",
   "metadata": {},
   "source": [
    "***"
   ]
  }
 ],
 "metadata": {
  "kernelspec": {
   "display_name": "Python 3 (ipykernel)",
   "language": "python",
   "name": "python3"
  },
  "language_info": {
   "codemirror_mode": {
    "name": "ipython",
    "version": 3
   },
   "file_extension": ".py",
   "mimetype": "text/x-python",
   "name": "python",
   "nbconvert_exporter": "python",
   "pygments_lexer": "ipython3",
   "version": "3.11.5"
  }
 },
 "nbformat": 4,
 "nbformat_minor": 5
}
