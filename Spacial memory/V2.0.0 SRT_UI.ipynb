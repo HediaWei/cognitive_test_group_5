{
 "cells": [
  {
   "cell_type": "markdown",
   "id": "6b140947-2b94-4317-8154-79f0c648a52a",
   "metadata": {},
   "source": [
    "# Spatial reasoning test\n",
    "\n",
    "This test will require you to view an arrangement of 3D coloured cubes on a 5x5x5 axis. You will then be shown four 2D plans of this cube arrangement and asked to identify which is NOT a possible plan of the 3D arrangement shown previously. You will not be limited to a certain time to complete each question, however the time you take to answer will be recorded. Please do not just choose to press all the buttons until you get the right answer, as the number of times you input an incorrect answer will also be recorded.\n",
    "\n",
    "**Please ensure you have downloaded all the required content to run this test, including the Spatial_reasoning excel file, as this will allow you to compare your results to the data used in our research. Please also make sure you have all the packages that are listed in the requirements.txt file.**\n",
    "\n",
    "#### When you are ready to start the test, run the code block below.\n",
    "\n",
    "***"
   ]
  },
  {
   "cell_type": "code",
   "execution_count": null,
   "id": "3e9899d3-6986-41c7-8cfa-671a73627104",
   "metadata": {
    "tags": []
   },
   "outputs": [],
   "source": [
    "from SRT import *\n",
    "run_spatial_reasoning_test(game_qs, seed_list)"
   ]
  },
  {
   "cell_type": "markdown",
   "id": "0f32b7f3-a278-4477-9fe8-a3b84e00618f",
   "metadata": {},
   "source": [
    "***"
   ]
  }
 ],
 "metadata": {
  "kernelspec": {
   "display_name": "Python 3 (ipykernel)",
   "language": "python",
   "name": "python3"
  },
  "language_info": {
   "codemirror_mode": {
    "name": "ipython",
    "version": 3
   },
   "file_extension": ".py",
   "mimetype": "text/x-python",
   "name": "python",
   "nbconvert_exporter": "python",
   "pygments_lexer": "ipython3",
   "version": "3.11.5"
  }
 },
 "nbformat": 4,
 "nbformat_minor": 5
}
