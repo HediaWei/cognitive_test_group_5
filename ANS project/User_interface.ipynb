{
 "cells": [
  {
   "cell_type": "markdown",
   "metadata": {},
   "source": [
    " #\n",
    " #ANS tests\n",
    "\n",
    " On each trial of this task, two dot arrays ranging in numerosity from 9 to 21 were presented for 750 ms on each side of a central fixation cross, after which only the fixation cross remained on the screen. Participants were asked to judge which side contained more dots as quickly and as accurately as possible by a manual (left or right index fingers) button press. The response was accepted from stimulus onset until 3 s after the stimulus onset, which was followed by an intertrial interval of 1.5 s before the onset of the following trial. \n",
    " \n",
    " **Source:Moodle ANS tests.ppt**\n",
    " \n",
    "**---------------------------------------------------------------------------------------------------------------------------------------------------------**\n",
    "\n",
    " When you are ready,simply scroll down and click **Start** in next block\n",
    " \n",
    " There are totally **64** questions\n",
    "\n",
    " **Please choose the side which you think having more dots**\n",
    " \n"
   ]
  },
  {
   "cell_type": "code",
   "execution_count": 2,
   "metadata": {},
   "outputs": [
    {
     "data": {
      "application/vnd.jupyter.widget-view+json": {
       "model_id": "3e203185debe4313aaba9142dfa6f947",
       "version_major": 2,
       "version_minor": 0
      },
      "text/plain": [
       "HBox(children=(Button(description='Start', style=ButtonStyle()),))"
      ]
     },
     "metadata": {},
     "output_type": "display_data"
    },
    {
     "name": "stdout",
     "output_type": "stream",
     "text": [
      "\n",
      "Please read:\n",
      "\n",
      "We wish to record your response data to an anonymised public data repository.\n",
      "Your data will be used for educational teaching purposes practising data analysis and visualisation.\n",
      "\n",
      "please click yes if you are consent to shareing your data toward us, If not, please just click no.\n",
      "\n",
      "\n",
      "Enter your anonymised ID\n",
      "\n",
      "To generate an anonymous 4-letter unique user identifier please enter:\n",
      "- two letters based on the initials (first and last name) of a childhood friend\n",
      "- two letters based on the initials (first and last name) of a favourite actor / actress\n",
      "\n",
      "e.g. if your friend was called Charlie Brown and film star was Tom Cruise\n",
      "     then your unique identifier would be CBTC\n"
     ]
    },
    {
     "data": {
      "application/vnd.jupyter.widget-view+json": {
       "model_id": "922dc292f9354c2c88612c538c6b5b76",
       "version_major": 2,
       "version_minor": 0
      },
      "text/plain": [
       "Text(value='', placeholder='ID')"
      ]
     },
     "metadata": {},
     "output_type": "display_data"
    },
    {
     "name": "stdout",
     "output_type": "stream",
     "text": [
      "Please enter your following details:\n"
     ]
    },
    {
     "data": {
      "application/vnd.jupyter.widget-view+json": {
       "model_id": "3438b13f6171421982d3ead49959ba8d",
       "version_major": 2,
       "version_minor": 0
      },
      "text/plain": [
       "Text(value='', placeholder='Age')"
      ]
     },
     "metadata": {},
     "output_type": "display_data"
    },
    {
     "data": {
      "application/vnd.jupyter.widget-view+json": {
       "model_id": "676004303f114b9bbce0fd385fe52841",
       "version_major": 2,
       "version_minor": 0
      },
      "text/plain": [
       "Text(value='', placeholder='Gender (F/M)')"
      ]
     },
     "metadata": {},
     "output_type": "display_data"
    },
    {
     "data": {
      "application/vnd.jupyter.widget-view+json": {
       "model_id": "b3fcc635eff44b2284bf1db823cb0403",
       "version_major": 2,
       "version_minor": 0
      },
      "text/plain": [
       "Text(value='', placeholder='Occupation')"
      ]
     },
     "metadata": {},
     "output_type": "display_data"
    },
    {
     "data": {
      "application/vnd.jupyter.widget-view+json": {
       "model_id": "80450352c5c24ae99d3a3cf5fba8c172",
       "version_major": 2,
       "version_minor": 0
      },
      "text/plain": [
       "Text(value='', placeholder='Are you smoking?(Yes/No)')"
      ]
     },
     "metadata": {},
     "output_type": "display_data"
    },
    {
     "data": {
      "application/vnd.jupyter.widget-view+json": {
       "model_id": "b7f079d6215042629d5b687d11627514",
       "version_major": 2,
       "version_minor": 0
      },
      "text/plain": [
       "Text(value='', placeholder='Have you drank alcohol with in 12 hours?(Yes/No)')"
      ]
     },
     "metadata": {},
     "output_type": "display_data"
    },
    {
     "data": {
      "application/vnd.jupyter.widget-view+json": {
       "model_id": "24f02ab05d9d4e289c710db2b985ea39",
       "version_major": 2,
       "version_minor": 0
      },
      "text/plain": [
       "HBox(children=(Button(description='Yes', style=ButtonStyle()), Button(description='No', style=ButtonStyle())))"
      ]
     },
     "metadata": {},
     "output_type": "display_data"
    },
    {
     "name": "stdout",
     "output_type": "stream",
     "text": [
      "data delected\n",
      "We would not save any data online\n",
      "Thank you for participating in the test, Have a good day\n"
     ]
    }
   ],
   "source": [
    "\n",
    "from ANS import *"
   ]
  },
  {
   "cell_type": "markdown",
   "metadata": {},
   "source": [
    "**------------------------------------------------------------------------------------**\n",
    "\n",
    "**When you are ready**\n",
    "**Run the above blocks**"
   ]
  }
 ],
 "metadata": {
  "kernelspec": {
   "display_name": "base",
   "language": "python",
   "name": "python3"
  },
  "language_info": {
   "codemirror_mode": {
    "name": "ipython",
    "version": 3
   },
   "file_extension": ".py",
   "mimetype": "text/x-python",
   "name": "python",
   "nbconvert_exporter": "python",
   "pygments_lexer": "ipython3",
   "version": "3.10.9"
  }
 },
 "nbformat": 4,
 "nbformat_minor": 2
}
