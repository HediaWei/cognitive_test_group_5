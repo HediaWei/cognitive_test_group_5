{
 "cells": [
  {
   "cell_type": "markdown",
   "id": "27a633d0-21c3-44d2-97db-1e33538c89c8",
   "metadata": {},
   "source": [
    "# Memory Test \n",
    "\n",
    "\n",
    "\n",
    "This test will ask you to to observe a grid of coloured shapes for 20 seconds, then answer around 5 questions testing their memory of the grid. You will then be tested on 3 grids each containing different shapes and colours. At the end of the test, your details information, score for each grid and total score will be recorded and uploaded to a google form. The test can also be performed without user consent if required, and no personal data will be recorded. You will also know your results at the end of the test, as well as your scores after each round.\n",
    "\n",
    "\n",
    "**Please ensure you have downloaded all the required content to run this test, including the three images, as without this you woll not be able to run the test. Please also make sure you have all the packages that are listed in the requirements.txt file.**\n",
    "\n",
    "\n",
    "#### When you are ready to start the test, run the code block below.\n",
    "\n",
    "***"
   ]
  },
  {
   "cell_type": "code",
   "execution_count": null,
   "id": "5244cca7-f67b-430a-b5dd-c4a3c5f10c59",
   "metadata": {},
   "outputs": [],
   "source": [
    "from memorytest_V2 import *\n",
    "memory_game()"
   ]
  }
 ],
 "metadata": {
  "kernelspec": {
   "display_name": "Python 3 (ipykernel)",
   "language": "python",
   "name": "python3"
  },
  "language_info": {
   "codemirror_mode": {
    "name": "ipython",
    "version": 3
   },
   "file_extension": ".py",
   "mimetype": "text/x-python",
   "name": "python",
   "nbconvert_exporter": "python",
   "pygments_lexer": "ipython3",
   "version": "3.8.18"
  }
 },
 "nbformat": 4,
 "nbformat_minor": 5
}
