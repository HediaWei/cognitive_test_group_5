{
 "cells": [
  {
   "cell_type": "code",
   "execution_count": 1,
   "metadata": {},
   "outputs": [
    {
     "data": {
      "text/html": [
       "<span style='color: black; font-size: 20px;'>Math Calculation Ability Test: Here is the example for your further step calculation, if you see '2+3*2' it would be (2+3)*2</span>"
      ],
      "text/plain": [
       "<IPython.core.display.HTML object>"
      ]
     },
     "metadata": {},
     "output_type": "display_data"
    },
    {
     "data": {
      "text/html": [
       "Please read:\n",
       "\n",
       "                      We wish to record your response data to an anonymised public data repository. \n",
       "                      Your data will be used for educational teaching purposes practising data analysis and visualisation.\n",
       "\n",
       "                      please click yes if you are consent to shareing your data toward us, If not, please just click no."
      ],
      "text/plain": [
       "<IPython.core.display.HTML object>"
      ]
     },
     "metadata": {},
     "output_type": "display_data"
    },
    {
     "data": {
      "text/html": [
       "Enter your anonymised ID\n",
       "\n",
       "                To generate an anonymous 4-letter unique user identifier please enter:\n",
       "                - two letters based on the initials (first and last name) of a childhood friend\n",
       "                - two letters based on the initials (first and last name) of a favourite actor / actress\n",
       "\n",
       "                e.g. if your friend was called Charlie Brown and film star was Tom Cruise\n",
       "                    then your unique identifier would be CBTC"
      ],
      "text/plain": [
       "<IPython.core.display.HTML object>"
      ]
     },
     "metadata": {},
     "output_type": "display_data"
    },
    {
     "data": {
      "text/html": [
       "<span style='color:black; font-size: 20px; display: block; text-align: center;'>Unique Anynomous code:(4 letters)</span>"
      ],
      "text/plain": [
       "<IPython.core.display.HTML object>"
      ]
     },
     "metadata": {},
     "output_type": "display_data"
    },
    {
     "data": {
      "application/vnd.jupyter.widget-view+json": {
       "model_id": "f6749a597a8b46df92d042ae259719ed",
       "version_major": 2,
       "version_minor": 0
      },
      "text/plain": [
       "Text(value='', description='name', layout=Layout(margin='0 auto', width='50%'))"
      ]
     },
     "metadata": {},
     "output_type": "display_data"
    },
    {
     "data": {
      "text/html": [
       "<span style='color:black; font-size: 20px; display: block; text-align: center;'>What is your age? </span>"
      ],
      "text/plain": [
       "<IPython.core.display.HTML object>"
      ]
     },
     "metadata": {},
     "output_type": "display_data"
    },
    {
     "data": {
      "application/vnd.jupyter.widget-view+json": {
       "model_id": "ad2661a30af34c6cb0f43c2ddd66a1f1",
       "version_major": 2,
       "version_minor": 0
      },
      "text/plain": [
       "Text(value='', description='age', layout=Layout(margin='0 auto', width='50%'))"
      ]
     },
     "metadata": {},
     "output_type": "display_data"
    },
    {
     "data": {
      "text/html": [
       "<span style='color:black; font-size: 20px; display: block; text-align: center;'>What is your gender?(Male/Female)</span>"
      ],
      "text/plain": [
       "<IPython.core.display.HTML object>"
      ]
     },
     "metadata": {},
     "output_type": "display_data"
    },
    {
     "data": {
      "application/vnd.jupyter.widget-view+json": {
       "model_id": "283604ecfda04be79c650fdc3a384c26",
       "version_major": 2,
       "version_minor": 0
      },
      "text/plain": [
       "Text(value='', description='gender', layout=Layout(margin='0 auto', width='50%'))"
      ]
     },
     "metadata": {},
     "output_type": "display_data"
    },
    {
     "data": {
      "text/html": [
       "<span style='color:black; font-size: 20px; display: block; text-align: center;'>Do you drink alcohol before test within 12h (Y/N)?</span>"
      ],
      "text/plain": [
       "<IPython.core.display.HTML object>"
      ]
     },
     "metadata": {},
     "output_type": "display_data"
    },
    {
     "data": {
      "application/vnd.jupyter.widget-view+json": {
       "model_id": "c5b8bf487b0840a18de038108693b5f0",
       "version_major": 2,
       "version_minor": 0
      },
      "text/plain": [
       "Text(value='', description='alcohol', layout=Layout(margin='0 auto', width='50%'))"
      ]
     },
     "metadata": {},
     "output_type": "display_data"
    },
    {
     "data": {
      "text/html": [
       "<span style='color:black; font-size: 20px; display: block; text-align: center;'>Do you/ have you ever smoked (Y/N)?</span>"
      ],
      "text/plain": [
       "<IPython.core.display.HTML object>"
      ]
     },
     "metadata": {},
     "output_type": "display_data"
    },
    {
     "data": {
      "application/vnd.jupyter.widget-view+json": {
       "model_id": "fad902035ecf4562b4c455ffded2265b",
       "version_major": 2,
       "version_minor": 0
      },
      "text/plain": [
       "Text(value='', description='smoking', layout=Layout(margin='0 auto', width='50%'))"
      ]
     },
     "metadata": {},
     "output_type": "display_data"
    },
    {
     "data": {
      "text/html": [
       "<span style='font-size: 20px;display: block; text-align: center;'> Would you like to enter your details to be used for research purposes? </span>"
      ],
      "text/plain": [
       "<IPython.core.display.HTML object>"
      ]
     },
     "metadata": {},
     "output_type": "display_data"
    },
    {
     "data": {
      "application/vnd.jupyter.widget-view+json": {
       "model_id": "48abc9a0acf74f5fbe60db805b980e86",
       "version_major": 2,
       "version_minor": 0
      },
      "text/plain": [
       "Box(children=(HBox(children=(Button(description='Yes', style=ButtonStyle()), Button(description='No', style=Bu…"
      ]
     },
     "metadata": {},
     "output_type": "display_data"
    },
    {
     "ename": "KeyboardInterrupt",
     "evalue": "",
     "output_type": "error",
     "traceback": [
      "\u001b[0;31m---------------------------------------------------------------------------\u001b[0m",
      "\u001b[0;31mKeyboardInterrupt\u001b[0m                         Traceback (most recent call last)",
      "\u001b[0;32m/var/folders/hg/jws6gwrj2vv7h46_hpwd57d80000gn/T/ipykernel_37935/1776127531.py\u001b[0m in \u001b[0;36m<module>\u001b[0;34m\u001b[0m\n\u001b[1;32m    374\u001b[0m     \u001b[0;32mreturn\u001b[0m \u001b[0mif_success\u001b[0m\u001b[0;34m\u001b[0m\u001b[0;34m\u001b[0m\u001b[0m\n\u001b[1;32m    375\u001b[0m \u001b[0;34m\u001b[0m\u001b[0m\n\u001b[0;32m--> 376\u001b[0;31m \u001b[0mmain\u001b[0m\u001b[0;34m(\u001b[0m\u001b[0;34m)\u001b[0m\u001b[0;34m\u001b[0m\u001b[0;34m\u001b[0m\u001b[0m\n\u001b[0m",
      "\u001b[0;32m/var/folders/hg/jws6gwrj2vv7h46_hpwd57d80000gn/T/ipykernel_37935/1776127531.py\u001b[0m in \u001b[0;36mmain\u001b[0;34m()\u001b[0m\n\u001b[1;32m    254\u001b[0m     \u001b[0mbtn2\u001b[0m \u001b[0;34m=\u001b[0m \u001b[0mwidgets\u001b[0m\u001b[0;34m.\u001b[0m\u001b[0mButton\u001b[0m\u001b[0;34m(\u001b[0m\u001b[0mdescription\u001b[0m\u001b[0;34m=\u001b[0m\u001b[0;34m\"No\"\u001b[0m\u001b[0;34m)\u001b[0m\u001b[0;34m\u001b[0m\u001b[0;34m\u001b[0m\u001b[0m\n\u001b[1;32m    255\u001b[0m \u001b[0;34m\u001b[0m\u001b[0m\n\u001b[0;32m--> 256\u001b[0;31m     \u001b[0mif_consent\u001b[0m \u001b[0;34m=\u001b[0m \u001b[0mwillingness_check\u001b[0m\u001b[0;34m(\u001b[0m\u001b[0mbtn1\u001b[0m\u001b[0;34m,\u001b[0m\u001b[0mbtn2\u001b[0m\u001b[0;34m)\u001b[0m\u001b[0;34m\u001b[0m\u001b[0;34m\u001b[0m\u001b[0m\n\u001b[0m\u001b[1;32m    257\u001b[0m \u001b[0;34m\u001b[0m\u001b[0m\n\u001b[1;32m    258\u001b[0m     \u001b[0;32mif\u001b[0m \u001b[0mif_consent\u001b[0m \u001b[0;34m==\u001b[0m \u001b[0;34m'Yes'\u001b[0m\u001b[0;34m:\u001b[0m\u001b[0;34m\u001b[0m\u001b[0;34m\u001b[0m\u001b[0m\n",
      "\u001b[0;32m/var/folders/hg/jws6gwrj2vv7h46_hpwd57d80000gn/T/ipykernel_37935/1776127531.py\u001b[0m in \u001b[0;36mwillingness_check\u001b[0;34m(btn1, btn2)\u001b[0m\n\u001b[1;32m    203\u001b[0m     \u001b[0mdisplay\u001b[0m\u001b[0;34m(\u001b[0m\u001b[0mcentered_buttons\u001b[0m\u001b[0;34m)\u001b[0m\u001b[0;34m\u001b[0m\u001b[0;34m\u001b[0m\u001b[0m\n\u001b[1;32m    204\u001b[0m \u001b[0;34m\u001b[0m\u001b[0m\n\u001b[0;32m--> 205\u001b[0;31m     \u001b[0mresult\u001b[0m \u001b[0;34m=\u001b[0m \u001b[0mwait_for_event\u001b[0m\u001b[0;34m(\u001b[0m\u001b[0mtimeout\u001b[0m\u001b[0;34m=\u001b[0m\u001b[0;36m60\u001b[0m\u001b[0;34m)\u001b[0m\u001b[0;34m\u001b[0m\u001b[0;34m\u001b[0m\u001b[0m\n\u001b[0m\u001b[1;32m    206\u001b[0m     \u001b[0mclear_output\u001b[0m\u001b[0;34m(\u001b[0m\u001b[0;34m)\u001b[0m\u001b[0;34m\u001b[0m\u001b[0;34m\u001b[0m\u001b[0m\n\u001b[1;32m    207\u001b[0m \u001b[0;34m\u001b[0m\u001b[0m\n",
      "\u001b[0;32m/var/folders/hg/jws6gwrj2vv7h46_hpwd57d80000gn/T/ipykernel_37935/1776127531.py\u001b[0m in \u001b[0;36mwait_for_event\u001b[0;34m(timeout, interval, max_rate, allow_interupt)\u001b[0m\n\u001b[1;32m     57\u001b[0m                 \u001b[0;31m# add pause before looping\u001b[0m\u001b[0;34m\u001b[0m\u001b[0;34m\u001b[0m\u001b[0m\n\u001b[1;32m     58\u001b[0m             \u001b[0;31m# to check events again\u001b[0m\u001b[0;34m\u001b[0m\u001b[0;34m\u001b[0m\u001b[0m\n\u001b[0;32m---> 59\u001b[0;31m             \u001b[0mtime\u001b[0m\u001b[0;34m.\u001b[0m\u001b[0msleep\u001b[0m\u001b[0;34m(\u001b[0m\u001b[0minterval\u001b[0m\u001b[0;34m)\u001b[0m\u001b[0;34m\u001b[0m\u001b[0;34m\u001b[0m\u001b[0m\n\u001b[0m\u001b[1;32m     60\u001b[0m \u001b[0;34m\u001b[0m\u001b[0m\n\u001b[1;32m     61\u001b[0m     \u001b[0;31m# return event description after wait ends\u001b[0m\u001b[0;34m\u001b[0m\u001b[0;34m\u001b[0m\u001b[0m\n",
      "\u001b[0;31mKeyboardInterrupt\u001b[0m: "
     ]
    }
   ],
   "source": [
    "import requests\n",
    "from bs4 import BeautifulSoup\n",
    "from IPython.display import display, HTML, clear_output\n",
    "import random\n",
    "import time\n",
    "import pandas as pd\n",
    "import json\n",
    "import ipywidgets as widgets\n",
    "from ipywidgets import Layout, VBox\n",
    "from jupyter_ui_poll import ui_events\n",
    "\n",
    "\n",
    "'''\n",
    "I acknowledge the use of AI tools (ChatGPT.3.5) by OpenAI to help with debugging/ fixing issues related to the ipywidgets module\n",
    "and to help with making the dictionary of questions that produces each of the cube arrangements\n",
    "URL: https://chat.openai.com/\n",
    "'''\n",
    "\n",
    "\n",
    "#Fixed random seed to ensure the constant \n",
    "random.seed(114)\n",
    "\n",
    "#Source：Moodle：Button demo code.ipynb\n",
    "event_info = {\n",
    "    'type': '',\n",
    "    'description': '',\n",
    "    'time': -1\n",
    "}\n",
    "\n",
    "#Source：Moodle：Button demo code.ipynb\n",
    "def wait_for_event(timeout=-1, interval=0.001, max_rate=20, allow_interupt=True):    \n",
    "    start_wait = time.time()\n",
    "\n",
    "    # set event info to be empty\n",
    "    # as this is dict we can change entries\n",
    "    # directly without using\n",
    "    # the global keyword\n",
    "    event_info['type'] = \"\"\n",
    "    event_info['description'] = \"\"\n",
    "    event_info['time'] = -1\n",
    "\n",
    "    n_proc = int(max_rate*interval)+1\n",
    "    \n",
    "    with ui_events() as ui_poll:\n",
    "        keep_looping = True\n",
    "        while keep_looping==True:\n",
    "            # process UI events\n",
    "            ui_poll(n_proc)\n",
    "\n",
    "            # end loop if we have waited more than the timeout period\n",
    "            if (timeout != -1) and (time.time() > start_wait + timeout):\n",
    "                keep_looping = False\n",
    "                \n",
    "            # end loop if event has occured\n",
    "            if allow_interupt==True and event_info['description']!=\"\":\n",
    "                keep_looping = False\n",
    "                # add pause before looping\n",
    "            # to check events again\n",
    "            time.sleep(interval)\n",
    "    \n",
    "    # return event description after wait ends\n",
    "    # will be set to empty string '' if no event occured\n",
    "    return event_info\n",
    "\n",
    "#Source：Moodle：Button demo code.ipynb\n",
    "def register_event(btn):\n",
    "    # display button description in output area\n",
    "    event_info['type'] = \"click\"\n",
    "    event_info['description'] = btn.description\n",
    "    event_info['time'] = time.time()\n",
    "    return\n",
    "\n",
    "#For generateing the random questions\n",
    "def generate_problem(question_count):\n",
    "    if question_count <= 8:\n",
    "        num1 = random.randint(0, 10)\n",
    "        num2 = random.randint(0, 10)\n",
    "        num3 = random.randint(0, 10)\n",
    "    elif 9 <= question_count <= 15:\n",
    "        num1 = random.randint(11, 50)\n",
    "        num2 = random.randint(11, 50)\n",
    "        num3 = random.randint(0, 10)\n",
    "    else:\n",
    "        # Handle the case when question_count is outside the specified ranges\n",
    "        raise ValueError(\"Invalid question_count\")\n",
    "    operator1 = random.choice(['+', '-'])\n",
    "    operator2 = random.choice(['+', '-','*'])\n",
    "    return num1, num2, num3, operator1, operator2\n",
    "\n",
    "# Function to send data to a Google Form\n",
    "def send_to_google_form(data_dict, form_url):\n",
    "    ''' Helper function to upload information to a corresponding google form \n",
    "        You are not expected to follow the code within this function!\n",
    "    '''\n",
    "    form_id = form_url[34:90]\n",
    "    view_form_url = f'https://docs.google.com/forms/d/e/{form_id}/viewform'\n",
    "    post_form_url = f'https://docs.google.com/forms/d/e/{form_id}/formResponse'\n",
    "\n",
    "    page = requests.get(view_form_url)\n",
    "    content = BeautifulSoup(page.content, \"html.parser\").find('script', type='text/javascript')\n",
    "    content = content.text[27:-1]\n",
    "    result = json.loads(content)[1][1]\n",
    "    form_dict = {}\n",
    "    \n",
    "    loaded_all = True\n",
    "    for item in result:\n",
    "        if item[1] not in data_dict:\n",
    "            print(f\"Form item {item[1]} not found. Data not uploaded.\")\n",
    "            loaded_all = False\n",
    "            return False\n",
    "        form_dict[f'entry.{item[4][0][0]}'] = data_dict[item[1]]\n",
    "    \n",
    "    post_result = requests.post(post_form_url, data=form_dict)\n",
    "    return post_result.ok\n",
    "\n",
    "# Function for retrieving user details if they consent\n",
    "\n",
    "def get_details():\n",
    "    name_info = '''Enter your anonymised ID\n",
    "\n",
    "                To generate an anonymous 4-letter unique user identifier please enter:\n",
    "                - two letters based on the initials (first and last name) of a childhood friend\n",
    "                - two letters based on the initials (first and last name) of a favourite actor / actress\n",
    "\n",
    "                e.g. if your friend was called Charlie Brown and film star was Tom Cruise\n",
    "                    then your unique identifier would be CBTC'''\n",
    "    \n",
    "    display(HTML(name_info))\n",
    "    #with details_output:\n",
    "    # input widget\n",
    "    # display widget\n",
    "    display(HTML(f\"<span style='color:black; font-size: 20px; display: block; text-align: center;'>Unique Anynomous code:(4 letters)</span>\"))\n",
    "    name_input_widget = widgets.Text(description=\"name\", layout=Layout(width='50%', margin='0 auto'))\n",
    "    display(name_input_widget)\n",
    "    \n",
    "    display(HTML(f\"<span style='color:black; font-size: 20px; display: block; text-align: center;'>What is your age? </span>\"))\n",
    "    age_input_widget = widgets.Text(description=\"age\", layout=Layout(width='50%', margin='0 auto'))\n",
    "    display(age_input_widget)\n",
    "    \n",
    "    display(HTML(f\"<span style='color:black; font-size: 20px; display: block; text-align: center;'>What is your gender?(Male/Female)</span>\"))\n",
    "    gender_input_widget = widgets.Text(description=\"gender\", layout=Layout(width='50%', margin='0 auto'))\n",
    "    display(gender_input_widget)\n",
    "    \n",
    "    display(HTML(f\"<span style='color:black; font-size: 20px; display: block; text-align: center;'>Do you drink alcohol before test within 12h (Y/N)?</span>\"))\n",
    "    alcohol_input_widget = widgets.Text(description=\"alcohol\", layout=Layout(width='50%', margin='0 auto'))\n",
    "    display(alcohol_input_widget)\n",
    "    \n",
    "    display(HTML(f\"<span style='color:black; font-size: 20px; display: block; text-align: center;'>Do you/ have you ever smoked (Y/N)?</span>\"))\n",
    "    smoking_input_widget = widgets.Text(description=\"smoking\", layout=Layout(width='50%', margin='0 auto'))\n",
    "    display(smoking_input_widget)\n",
    "    \n",
    "    name = name_input_widget.value\n",
    "    age = age_input_widget.value\n",
    "    gender = gender_input_widget.value\n",
    "    alcohol = alcohol_input_widget.value\n",
    "    smoking = smoking_input_widget.value\n",
    "    \n",
    "    return name, age, gender, alcohol, smoking\n",
    "\n",
    "# Call the function to display the centered input fields\n",
    "\n",
    "\n",
    "# Display number and operator to give a question\n",
    "def display_problem(num1, operator1, num2, operator2, num3):\n",
    "    # Display the problem using HTML-like formatting\n",
    "    display(HTML(f\"<span style='color: red; font-size: 30px;'>{num1}</span>\"))\n",
    "    time.sleep(2)\n",
    "    clear_output(wait=True)\n",
    "\n",
    "    display(HTML(f\"<span style='color: red; font-size: 30px;'>{operator1}{num2}</span>\"))\n",
    "    time.sleep(2)\n",
    "    clear_output(wait=True)\n",
    "    \n",
    "    display(HTML(f\"<span style='color: red; font-size: 30px;'>{operator2}{num3}</span>\"))\n",
    "    time.sleep(1)\n",
    "    clear_output(wait=True)\n",
    "\n",
    "#use to confirm user input is int or float\n",
    "def type_check(value):\n",
    "    type_value = type(value)\n",
    "    if type_value == int or type_value==float:\n",
    "        return value\n",
    "    else:\n",
    "        return -100000 #must be wrong\n",
    "\n",
    "#Colab by group member Qianzhi Sang\n",
    "\n",
    "# code for consent botton \n",
    "\n",
    "def willingness_check(btn1,btn2):\n",
    "    # we need to set up each button\n",
    "    # to call the register_event\n",
    "    # function when clicked\n",
    "    btn1.on_click(register_event) \n",
    "    btn2.on_click(register_event) \n",
    "\n",
    "    myhtml1 = HTML(\"<span style='font-size: 20px;display: block; text-align: center;'> Would you like to enter your details to be used for research purposes? </span>\")\n",
    "    display(myhtml1)\n",
    "    \n",
    "    buttons_box = widgets.HBox([btn1, btn2])\n",
    "    # Center the buttons horizontally, under help with chatgpt.\n",
    "    centered_buttons = widgets.Box([buttons_box], layout=widgets.Layout(justify_content='center'))\n",
    "    display(centered_buttons)\n",
    "    \n",
    "    result = wait_for_event(timeout=60)\n",
    "    clear_output()\n",
    "\n",
    "    if result['description']!=\"\":\n",
    "        print(f\"User clicked: {result['description']}\")\n",
    "        return(result['description'])\n",
    "    else:\n",
    "        print(\"User did not click in time\")\n",
    "    \n",
    "\n",
    "#Source:Moodle Week 6, Using_buttons_and_text_input_fix.ipynb\n",
    "def text_input(prompt=None):\n",
    "    text_input = widgets.Text(description=prompt, style= {'description_width': 'initial'})\n",
    "    import warnings\n",
    "    warnings.filterwarnings(\"ignore\", category=DeprecationWarning)\n",
    "    text_input.on_submit(register_text_input_event)\n",
    "    display(text_input)\n",
    "    event = wait_for_event(timeout=-1)\n",
    "    text_input.disabled = True\n",
    "    return event['description']\n",
    "\n",
    "#Source:Moodle Week 6, Using_buttons_and_text_input_fix.ipynb\n",
    "def register_text_input_event(text_input):\n",
    "    event_info['type'] = \"text_entry\"\n",
    "    event_info['description'] = text_input.value\n",
    "    event_info['time'] = time.time()\n",
    "    return\n",
    "\n",
    "# Main calculation test\n",
    "def main():\n",
    "    correct_answers = 0\n",
    "    score = 0\n",
    "    total_time = 0\n",
    "    num_problems = 15  # You can change the number of problems\n",
    "\n",
    "    display(HTML(f\"<span style='color: black; font-size: 20px;'>Math Calculation Ability Test: Here is the example for your further step calculation, if you see '2+3*2' it would be (2+3)*2</span>\"))\n",
    "\n",
    "    consent_info = '''Please read:\n",
    "\n",
    "                      We wish to record your response data to an anonymised public data repository. \n",
    "                      Your data will be used for educational teaching purposes practising data analysis and visualisation.\n",
    "\n",
    "                      please click yes if you are consent to shareing your data toward us, If not, please just click no.'''\n",
    "    display(HTML(consent_info))\n",
    "    \n",
    "    name,age,gender,alcohol,smoking = get_details()\n",
    "\n",
    "    #The two buttons\n",
    "    btn1 = widgets.Button(description=\"Yes\")\n",
    "    btn2 = widgets.Button(description=\"No\")\n",
    "\n",
    "    if_consent = willingness_check(btn1,btn2)\n",
    "    \n",
    "    if if_consent == 'Yes':\n",
    "        #Time list that store the time spend each time\n",
    "        time_list_set1 = []\n",
    "        time_list_set2 = []\n",
    "\n",
    "        for i in range(1, num_problems + 1):\n",
    "            num1, num2, num3, operator1, operator2 = generate_problem(i)\n",
    "\n",
    "            display(HTML(f\"<span style='color: black; font-size: 20px;'>Get ready for problem {i}...</span>\"))\n",
    "            time.sleep(2)\n",
    "            clear_output(wait=True)\n",
    "\n",
    "            # Display the problem for 2 seconds\n",
    "            display_problem(num1, operator1, num2, operator2, num3 )\n",
    "\n",
    "            # Record start time\n",
    "            start_time = time.time()\n",
    "        \n",
    "            # Ask the user to solve the problem\n",
    "            display(HTML(f\"<span style='color: black; font-size: 20px;'>What's the answer? </span>\"))\n",
    "            \n",
    "\n",
    "            #Use the Text_input_function\n",
    "            user_input = text_input(prompt='The answer is:')\n",
    "            user_answer = type_check(user_input) \n",
    "            #now user input must be int/float to prevent bug, if not,the answer is a 100% wrong answer to punish\n",
    "        \n",
    "            # Record end time\n",
    "            end_time = time.time()\n",
    "            # Calculate the time spent on the current question\n",
    "            time_spent = end_time - start_time\n",
    "        \n",
    "            if 1 <= i <= 8:\n",
    "                time_list_set1.append(time_spent)\n",
    "            elif 9 <= i <= 15:\n",
    "                time_list_set2.append(time_spent)\n",
    "        \n",
    "            total_time += time_spent\n",
    "        \n",
    "            # Calculate the correct answer\n",
    "            if operator1 == '+' and operator2 == '+':\n",
    "                correct_answer = num1 + num2 + num3\n",
    "            elif operator1 == '+' and operator2 == '-':\n",
    "                correct_answer = num1 + num2 - num3\n",
    "            elif operator1 == '+' and operator2 == '*':\n",
    "                correct_answer = (num1 + num2 )* num3\n",
    "            elif operator1 == '-' and operator2 == '+':\n",
    "                correct_answer = num1 - num2 + num3\n",
    "            elif operator1 == '-' and operator2 == '-':\n",
    "                correct_answer = num1 - num2 - num3\n",
    "            elif operator1 == '-' and operator2 == '*':\n",
    "                correct_answer = (num1 - num2) * num3\n",
    "\n",
    "            # Check if the user's answer is correct\n",
    "            if user_answer == correct_answer:\n",
    "                print(f\"Correct! You earned 1 point. Time: {time_spent:.2f} seconds\\n\")\n",
    "                correct_answers += 1\n",
    "                score += 1\n",
    "            else:\n",
    "                print(f\"Incorrect. The correct answer is {correct_answer}. No point earned. Time: {time_spent:.2f} seconds\\n\")\n",
    "\n",
    "    # Calculate the average time spent\n",
    "    average_time_set1 = sum(time_list_set1) / len(time_list_set1) if time_list_set1 else 0\n",
    "    average_time_set2 = sum(time_list_set2) / len(time_list_set2) if time_list_set2 else 0\n",
    "        \n",
    "    # Display the results using HTML\n",
    "    display(HTML(f\"<p style='color: blue; font-size: 18px;display: block; text-align: center;'>You got {correct_answers} out of {num_problems} problems correct.</p>\"))\n",
    "    display(HTML(f\"<p style='color: blue; font-size: 18px;display: block; text-align: center;'>Your total score is {score}.</p>\"))\n",
    "    display(HTML(f\"<p style='color: blue; font-size: 18px;display: block; text-align: center;'>Total time spent on calculation: {total_time:.2f} seconds.</p>\"))\n",
    "    display(HTML(f\"<p style='color: blue; font-size: 18px;display: block; text-align: center;'>Average time spent for questions 1-8: {average_time_set1:.2f} seconds.</p>\"))\n",
    "    display(HTML(f\"<p style='color: blue; font-size: 18px;display: block; text-align: center;'>Average time spent for questions 9-15: {average_time_set2:.2f} seconds.</p>\"))\n",
    "    \n",
    "    myhtml1 = HTML(\"<span style='font-size: 20px;'> Would you like to enter your details to be used for research purposes? </span>\")\n",
    "    display(myhtml1)\n",
    "\n",
    "    panel = widgets.HBox([btn1, btn2])\n",
    "    display(panel)\n",
    "\n",
    "    result = wait_for_event(timeout=-1)\n",
    "    clear_output()\n",
    "\n",
    "    #indentation \n",
    "    if result['description']!=\"\":\n",
    "        print(f\"User clicked: {result['description']}\")\n",
    "    else:\n",
    "        print(\"User did not click in time\")\n",
    "\n",
    "    # Dictionaries for user information and test results\n",
    "    data_dict1 = {'Name': name, 'Age': age, 'Gender': gender, 'Alcohol': alcohol, 'Smoking': smoking}\n",
    "    data_dict2 = {'Average_time_easy': average_time_set1, \n",
    "                  'Average_time_hard': average_time_set2, \n",
    "                  'Total_time': total_time, \n",
    "                  'Final_grade': score,\n",
    "                  'q1': time_list_set1[0],\n",
    "                  'q2': time_list_set1[1],\n",
    "                  'q3': time_list_set1[2],\n",
    "                  'q4': time_list_set1[3],\n",
    "                  'q5': time_list_set1[4],\n",
    "                  'q6': time_list_set1[5],\n",
    "                  'q7': time_list_set1[6],\n",
    "                  'q8': time_list_set1[7],\n",
    "                  'q9': time_list_set2[0],\n",
    "                  'q10': time_list_set2[1],\n",
    "                  'q11': time_list_set2[2],\n",
    "                  'q12': time_list_set2[3],\n",
    "                  'q13': time_list_set2[4],\n",
    "                  'q14':time_list_set2[5],\n",
    "                  'q15':time_list_set2[6]}\n",
    "\n",
    "    # Create a new dictionary by copying data_dict1 and updating it with data_dict2\n",
    "    new_data_dict = data_dict1.copy()\n",
    "    new_data_dict.update(data_dict2)\n",
    "\n",
    "    # Send data to Google Form\n",
    "    form_url = 'https://docs.google.com/forms/d/e/1FAIpQLSdtOV3JVnW1jtoSxjP8HsBm9lJUupjaJ3ck3Fem95XEkRm28g/viewform?usp=sf_link'\n",
    "    if_success = send_to_google_form(new_data_dict, form_url)\n",
    "    return if_success\n",
    "\n",
    "main()"
   ]
  },
  {
   "cell_type": "code",
   "execution_count": null,
   "metadata": {},
   "outputs": [],
   "source": []
  }
 ],
 "metadata": {
  "kernelspec": {
   "display_name": "Python 3 (ipykernel)",
   "language": "python",
   "name": "python3"
  },
  "language_info": {
   "codemirror_mode": {
    "name": "ipython",
    "version": 3
   },
   "file_extension": ".py",
   "mimetype": "text/x-python",
   "name": "python",
   "nbconvert_exporter": "python",
   "pygments_lexer": "ipython3",
   "version": "3.9.13"
  }
 },
 "nbformat": 4,
 "nbformat_minor": 4
}
