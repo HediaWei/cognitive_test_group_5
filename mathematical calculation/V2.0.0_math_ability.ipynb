{
 "cells": [
  {
   "cell_type": "markdown",
   "id": "2fc60ea4-b269-4bf4-8397-d2b2d300efdb",
   "metadata": {},
   "source": [
    "<div style=\"text-align: center\">\n",
    "    \n",
    "### **Cognitive test_Group_5_BIOS0030: Math calculation ability**"
   ]
  },
  {
   "cell_type": "markdown",
   "id": "eb8f5104-d264-42c1-b87d-f5d5af21afd0",
   "metadata": {},
   "source": [
    "<div style=\"text-align: center\">\n",
    "    \n",
    "#### If You Want to Start Test, Please Run the Code Below"
   ]
  },
  {
   "cell_type": "markdown",
   "id": "12619639-42df-4298-a883-7c31463df4f1",
   "metadata": {},
   "source": [
    "<div style=\"text-align: center\">\n",
    "\n",
    "Notes: This version is V2.0.0 Math ability test, if it shows error after run the code, please check you have already download the V2.0.0 Math_calculation.py file."
   ]
  },
  {
   "cell_type": "code",
   "execution_count": null,
   "id": "380bec98-3589-4b29-8a3e-0a4065aacf6c",
   "metadata": {},
   "outputs": [],
   "source": [
    "from V200_Math_ability import *"
   ]
  }
 ],
 "metadata": {
  "kernelspec": {
   "display_name": "Python 3 (ipykernel)",
   "language": "python",
   "name": "python3"
  },
  "language_info": {
   "codemirror_mode": {
    "name": "ipython",
    "version": 3
   },
   "file_extension": ".py",
   "mimetype": "text/x-python",
   "name": "python",
   "nbconvert_exporter": "python",
   "pygments_lexer": "ipython3",
   "version": "3.9.13"
  }
 },
 "nbformat": 4,
 "nbformat_minor": 5
}
